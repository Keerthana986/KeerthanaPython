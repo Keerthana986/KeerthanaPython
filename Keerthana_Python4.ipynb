{
  "nbformat": 4,
  "nbformat_minor": 0,
  "metadata": {
    "colab": {
      "provenance": []
    },
    "kernelspec": {
      "name": "python3",
      "display_name": "Python 3"
    },
    "language_info": {
      "name": "python"
    }
  },
  "cells": [
    {
      "cell_type": "code",
      "execution_count": null,
      "metadata": {
        "id": "IgdMbHMoxV8Y"
      },
      "outputs": [],
      "source": [
        "def name(name):\n",
        "   print('My name is '+name)\n"
      ]
    },
    {
      "cell_type": "code",
      "source": [],
      "metadata": {
        "id": "rez5013HQ8jX"
      },
      "execution_count": null,
      "outputs": []
    },
    {
      "cell_type": "code",
      "source": [
        "name('Keerthana.K')"
      ],
      "metadata": {
        "colab": {
          "base_uri": "https://localhost:8080/"
        },
        "id": "OzbE3UnFyy3L",
        "outputId": "d1db3199-e5f8-4e80-85e4-83625f387fab"
      },
      "execution_count": null,
      "outputs": [
        {
          "output_type": "stream",
          "name": "stdout",
          "text": [
            "My name is Keerthana.K\n"
          ]
        }
      ]
    },
    {
      "cell_type": "code",
      "source": [
        "def fun(child1,child2,child3):\n",
        "  print('My chils is '+''+child2)\n",
        "fun(child1='K',child2='S',child3='N')"
      ],
      "metadata": {
        "colab": {
          "base_uri": "https://localhost:8080/"
        },
        "id": "5MpblHYay_ud",
        "outputId": "1adc1a92-f620-4392-f1a5-2c5b3eb13b81"
      },
      "execution_count": null,
      "outputs": [
        {
          "output_type": "stream",
          "name": "stdout",
          "text": [
            "My chils is S\n"
          ]
        }
      ]
    },
    {
      "cell_type": "code",
      "source": [
        "X=lambda a : a+10\n",
        "print(X(5))"
      ],
      "metadata": {
        "colab": {
          "base_uri": "https://localhost:8080/"
        },
        "id": "S7j0VppU0OZz",
        "outputId": "4e4ca87d-077d-4c42-bdfc-560ff83bd175"
      },
      "execution_count": null,
      "outputs": [
        {
          "output_type": "stream",
          "name": "stdout",
          "text": [
            "15\n"
          ]
        }
      ]
    },
    {
      "cell_type": "code",
      "source": [
        "Add = lambda a,b : a+b\n",
        "print(Add(10,20))"
      ],
      "metadata": {
        "colab": {
          "base_uri": "https://localhost:8080/"
        },
        "id": "n1igbTiu05Jy",
        "outputId": "75b3f693-f072-40d4-c117-98cb30d1393a"
      },
      "execution_count": null,
      "outputs": [
        {
          "output_type": "stream",
          "name": "stdout",
          "text": [
            "30\n"
          ]
        }
      ]
    },
    {
      "cell_type": "code",
      "source": [
        "x=lambda a,b:a*b\n",
        "print(x(30,8))"
      ],
      "metadata": {
        "colab": {
          "base_uri": "https://localhost:8080/"
        },
        "id": "SV3SBX-R1hpx",
        "outputId": "d0a804ab-edb9-4506-a374-d1645bfc1636"
      },
      "execution_count": null,
      "outputs": [
        {
          "output_type": "stream",
          "name": "stdout",
          "text": [
            "240\n"
          ]
        }
      ]
    },
    {
      "cell_type": "code",
      "source": [
        "name='Keerthana.K'"
      ],
      "metadata": {
        "id": "8qpj1ZGa2fdS"
      },
      "execution_count": null,
      "outputs": []
    },
    {
      "cell_type": "code",
      "source": [
        "print(name)"
      ],
      "metadata": {
        "colab": {
          "base_uri": "https://localhost:8080/"
        },
        "id": "vi10wcM-2tGp",
        "outputId": "6b60e3c4-1680-430e-dd11-49327221ee2e"
      },
      "execution_count": null,
      "outputs": [
        {
          "output_type": "stream",
          "name": "stdout",
          "text": [
            "Keerthana.K\n"
          ]
        }
      ]
    },
    {
      "cell_type": "code",
      "source": [
        "class student:\n",
        "  name='Keerthana'\n",
        "  age=17\n",
        "  mark=30\n",
        "std=student()\n",
        "print(std.name)\n",
        "print(std.age)\n",
        "print(std.mark)"
      ],
      "metadata": {
        "colab": {
          "base_uri": "https://localhost:8080/"
        },
        "id": "oNKugyXv20BY",
        "outputId": "c0d28548-c45e-4c73-a4bf-4e7342ea3e19"
      },
      "execution_count": null,
      "outputs": [
        {
          "output_type": "stream",
          "name": "stdout",
          "text": [
            "Keerthana\n",
            "17\n",
            "30\n"
          ]
        }
      ]
    },
    {
      "cell_type": "code",
      "source": [
        "def __init__(self,name,age):\n",
        "    self.name=name\n",
        "    self.age=age\n",
        "S1=student(\"Jaya\",47)\n",
        "print(S1.name,S1.age)"
      ],
      "metadata": {
        "colab": {
          "base_uri": "https://localhost:8080/"
        },
        "id": "sVsmOJRx995s",
        "outputId": "7b7374ab-681a-446b-b8ca-9c9da0d0aca8"
      },
      "execution_count": null,
      "outputs": [
        {
          "output_type": "stream",
          "name": "stdout",
          "text": [
            "Jaya 47\n"
          ]
        }
      ]
    },
    {
      "cell_type": "code",
      "source": [
        "class friends:\n",
        "  def __init__(self,name,priority):\n",
        "    self.name=name\n",
        "    self.priority=priority\n",
        "F1=friends(\"Chittu\",1)\n",
        "F2=friends(\"Shivani\",2)\n",
        "F3=friends(\"Nandu\",2)\n",
        "print(F1.name,F1.priority)\n",
        "print(F2.name,F2.priority)\n",
        "print(F3.name,F3.priority)"
      ],
      "metadata": {
        "colab": {
          "base_uri": "https://localhost:8080/"
        },
        "id": "lvubI2vV98dH",
        "outputId": "22a70eea-f3f9-431c-ab06-2b36bcc9a4e3"
      },
      "execution_count": null,
      "outputs": [
        {
          "output_type": "stream",
          "name": "stdout",
          "text": [
            "Chittu 1\n",
            "Shivani 2\n",
            "Nandu 2\n"
          ]
        }
      ]
    },
    {
      "cell_type": "code",
      "source": [
        "class cube:\n",
        "  def __init__(self,num):\n",
        "    self.num=num\n",
        "  def cubeofnumber(self):\n",
        "    return self.num**3\n",
        "cubeobj=cube(5)\n",
        "result=cubeobj.cubeofnumber()\n",
        "print(result)"
      ],
      "metadata": {
        "colab": {
          "base_uri": "https://localhost:8080/"
        },
        "id": "_XL23W_3-Rbl",
        "outputId": "e62b711f-46c6-4fdf-ae00-27ad4d4d9a3a"
      },
      "execution_count": null,
      "outputs": [
        {
          "output_type": "stream",
          "name": "stdout",
          "text": [
            "125\n"
          ]
        }
      ]
    },
    {
      "cell_type": "code",
      "source": [
        "print(chr(11088))"
      ],
      "metadata": {
        "colab": {
          "base_uri": "https://localhost:8080/"
        },
        "id": "hIjgIH5tBi-G",
        "outputId": "e1d1e9ac-619d-401c-bc1f-094744db01c7"
      },
      "execution_count": null,
      "outputs": [
        {
          "output_type": "stream",
          "name": "stdout",
          "text": [
            "⭐\n"
          ]
        }
      ]
    },
    {
      "cell_type": "code",
      "source": [
        "print(chr(10084))"
      ],
      "metadata": {
        "colab": {
          "base_uri": "https://localhost:8080/"
        },
        "id": "CrjI3mR4BmRn",
        "outputId": "c85ce23b-0f8c-4a87-abee-3e9da1a7b4bc"
      },
      "execution_count": null,
      "outputs": [
        {
          "output_type": "stream",
          "name": "stdout",
          "text": [
            "❤\n"
          ]
        }
      ]
    },
    {
      "cell_type": "code",
      "source": [
        "print(chr(18004))"
      ],
      "metadata": {
        "colab": {
          "base_uri": "https://localhost:8080/"
        },
        "id": "MWIvo0WwBxfj",
        "outputId": "031eee65-7500-4358-dba1-589051e3eac8"
      },
      "execution_count": null,
      "outputs": [
        {
          "output_type": "stream",
          "name": "stdout",
          "text": [
            "䙔\n"
          ]
        }
      ]
    },
    {
      "cell_type": "code",
      "source": [
        "print(chr(14008))"
      ],
      "metadata": {
        "colab": {
          "base_uri": "https://localhost:8080/"
        },
        "id": "COB5NObvB47g",
        "outputId": "392cd4ef-aa4f-457c-9ce9-0838047d2546"
      },
      "execution_count": null,
      "outputs": [
        {
          "output_type": "stream",
          "name": "stdout",
          "text": [
            "㚸\n"
          ]
        }
      ]
    },
    {
      "cell_type": "code",
      "source": [
        "print(chr(10088))"
      ],
      "metadata": {
        "colab": {
          "base_uri": "https://localhost:8080/"
        },
        "id": "VzD8LJQhB-_8",
        "outputId": "8ce0b138-fec2-4bb5-a9c0-c38c4a08a1e7"
      },
      "execution_count": null,
      "outputs": [
        {
          "output_type": "stream",
          "name": "stdout",
          "text": [
            "❨\n"
          ]
        }
      ]
    },
    {
      "cell_type": "code",
      "source": [
        "print('Hello')"
      ],
      "metadata": {
        "colab": {
          "base_uri": "https://localhost:8080/"
        },
        "id": "reHRZ2NaCL6D",
        "outputId": "6a0bf5db-0ada-4830-d867-d0a5bafca1c4"
      },
      "execution_count": null,
      "outputs": [
        {
          "output_type": "stream",
          "name": "stdout",
          "text": [
            "Hello\n"
          ]
        }
      ]
    },
    {
      "cell_type": "code",
      "source": [
        "print(chr(10048))"
      ],
      "metadata": {
        "colab": {
          "base_uri": "https://localhost:8080/"
        },
        "id": "aBtc7v7oCfsU",
        "outputId": "d68699a6-6770-4e2c-b5ba-a1b5d8749205"
      },
      "execution_count": null,
      "outputs": [
        {
          "output_type": "stream",
          "name": "stdout",
          "text": [
            "❀\n"
          ]
        }
      ]
    },
    {
      "cell_type": "code",
      "source": [
        "class living_being:\n",
        "  def __init__(self,species):\n",
        "   self.species=species\n",
        "  def make_sound(self):\n",
        "    print(\"Living human sounds\")\n",
        "class Chittu(living_being):\n",
        "  def make_sound(self):\n",
        "    print(\"Aeeehhh..\")\n",
        "class mittu(living_being):\n",
        "  def make_sound(self):\n",
        "    print(\"eeeeeeeeee\")\n",
        "my_Chittu=Chittu(\"Homosapian\")\n",
        "my_mittu=mittu(\"Homosapian\")\n",
        "my_Chittu.make_sound()\n",
        "my_mittu.make_sound()\n"
      ],
      "metadata": {
        "colab": {
          "base_uri": "https://localhost:8080/"
        },
        "id": "920pG4xfDeTV",
        "outputId": "c59188a2-14bb-4619-99f0-e50dda220dfd"
      },
      "execution_count": null,
      "outputs": [
        {
          "output_type": "stream",
          "name": "stdout",
          "text": [
            "Aeeehhh..\n",
            "eeeeeeeeee\n"
          ]
        }
      ]
    }
  ]
}