{
  "nbformat": 4,
  "nbformat_minor": 0,
  "metadata": {
    "colab": {
      "provenance": []
    },
    "kernelspec": {
      "name": "python3",
      "display_name": "Python 3"
    },
    "language_info": {
      "name": "python"
    }
  },
  "cells": [
    {
      "cell_type": "code",
      "execution_count": null,
      "metadata": {
        "colab": {
          "base_uri": "https://localhost:8080/"
        },
        "id": "tmC35uDpJNrU",
        "outputId": "9c35d864-2511-4240-cdbd-d7ec1d918f55"
      },
      "outputs": [
        {
          "output_type": "stream",
          "name": "stdout",
          "text": [
            "Enter the limit : 10\n",
            "0\n",
            "1\n",
            "2\n",
            "3\n",
            "4\n",
            "5\n",
            "6\n",
            "7\n",
            "8\n",
            "9\n"
          ]
        }
      ],
      "source": [
        "limit=int(input(\"Enter the limit : \"))\n",
        "count=0\n",
        "while count<limit:\n",
        "  print (count)\n",
        "  count+=1"
      ]
    },
    {
      "cell_type": "code",
      "source": [
        "S=[1,\"Keerthana\",30.8]\n",
        "for i in S:\n",
        "  print(i)"
      ],
      "metadata": {
        "colab": {
          "base_uri": "https://localhost:8080/"
        },
        "id": "becqHxd0LzyN",
        "outputId": "d2af34c1-df39-47e9-8151-893dcb239a20"
      },
      "execution_count": null,
      "outputs": [
        {
          "output_type": "stream",
          "name": "stdout",
          "text": [
            "1\n",
            "Keerthana\n",
            "30.8\n"
          ]
        }
      ]
    },
    {
      "cell_type": "code",
      "source": [
        "for k in range(1,11):\n",
        "  print(k)"
      ],
      "metadata": {
        "colab": {
          "base_uri": "https://localhost:8080/"
        },
        "id": "6m2XToh6NN9h",
        "outputId": "4c18ab40-6e40-4203-96a6-eeb1c7a1eda3"
      },
      "execution_count": null,
      "outputs": [
        {
          "output_type": "stream",
          "name": "stdout",
          "text": [
            "1\n",
            "2\n",
            "3\n",
            "4\n",
            "5\n",
            "6\n",
            "7\n",
            "8\n",
            "9\n",
            "10\n"
          ]
        }
      ]
    },
    {
      "cell_type": "code",
      "source": [
        "s={1,3,5}\n",
        "for k in s:\n",
        "  print(k)"
      ],
      "metadata": {
        "colab": {
          "base_uri": "https://localhost:8080/"
        },
        "id": "9p9xDolXN_-E",
        "outputId": "027071e7-8741-4910-ed1e-d380230f2faa"
      },
      "execution_count": null,
      "outputs": [
        {
          "output_type": "stream",
          "name": "stdout",
          "text": [
            "1\n",
            "3\n",
            "5\n"
          ]
        }
      ]
    },
    {
      "cell_type": "code",
      "source": [
        "for x in \"banana\":\n",
        "  print(x)"
      ],
      "metadata": {
        "colab": {
          "base_uri": "https://localhost:8080/"
        },
        "id": "MUiAXaLhO1ic",
        "outputId": "1cfc5240-98a5-48e7-d3fd-ae03b78335d6"
      },
      "execution_count": null,
      "outputs": [
        {
          "output_type": "stream",
          "name": "stdout",
          "text": [
            "b\n",
            "a\n",
            "n\n",
            "a\n",
            "n\n",
            "a\n"
          ]
        }
      ]
    },
    {
      "cell_type": "code",
      "source": [
        "for x in s:\n",
        "\n",
        "  if x == 3:\n",
        "    break\n",
        "  print(x)"
      ],
      "metadata": {
        "colab": {
          "base_uri": "https://localhost:8080/"
        },
        "id": "ncOvtCvOPgU0",
        "outputId": "1b67e95a-8f6e-483f-991b-7e9952ff0b63"
      },
      "execution_count": null,
      "outputs": [
        {
          "output_type": "stream",
          "name": "stdout",
          "text": [
            "1\n"
          ]
        }
      ]
    },
    {
      "cell_type": "code",
      "source": [
        "s"
      ],
      "metadata": {
        "colab": {
          "base_uri": "https://localhost:8080/"
        },
        "id": "cOOwWMIGSd3L",
        "outputId": "bb7baadb-04fa-4d48-de04-4a97d6a9adb1"
      },
      "execution_count": null,
      "outputs": [
        {
          "output_type": "execute_result",
          "data": {
            "text/plain": [
              "{1, 3, 5}"
            ]
          },
          "metadata": {},
          "execution_count": 25
        }
      ]
    },
    {
      "cell_type": "code",
      "source": [
        "for x in s:\n",
        "\n",
        "  if x == 3:\n",
        "    continue\n",
        "  print(x)"
      ],
      "metadata": {
        "colab": {
          "base_uri": "https://localhost:8080/"
        },
        "id": "GFjlN4gVTGzI",
        "outputId": "c0ef96d1-567d-4837-f9d0-8d3158960e1a"
      },
      "execution_count": null,
      "outputs": [
        {
          "output_type": "stream",
          "name": "stdout",
          "text": [
            "1\n",
            "5\n"
          ]
        }
      ]
    },
    {
      "cell_type": "code",
      "source": [
        "def myname(name):\n",
        " print('My name is '+name)"
      ],
      "metadata": {
        "id": "hsb7cxsIUbTR"
      },
      "execution_count": null,
      "outputs": []
    },
    {
      "cell_type": "code",
      "source": [
        "myname('Keerthana.K')"
      ],
      "metadata": {
        "colab": {
          "base_uri": "https://localhost:8080/"
        },
        "id": "JozpPkhQWSfJ",
        "outputId": "84772485-7630-4603-adde-6a50d86d1a50"
      },
      "execution_count": null,
      "outputs": [
        {
          "output_type": "stream",
          "name": "stdout",
          "text": [
            "My name is Keerthana.K\n"
          ]
        }
      ]
    },
    {
      "cell_type": "code",
      "source": [
        "def sum(a,b):\n",
        "  S=a+b\n",
        "  print(S)"
      ],
      "metadata": {
        "id": "rLuvz5y7XrXv"
      },
      "execution_count": null,
      "outputs": []
    },
    {
      "cell_type": "code",
      "source": [
        "sum(1,2)"
      ],
      "metadata": {
        "colab": {
          "base_uri": "https://localhost:8080/"
        },
        "id": "yIFgn5EqYGp1",
        "outputId": "3982aa1c-4777-428e-e8b6-214c85776e8e"
      },
      "execution_count": null,
      "outputs": [
        {
          "output_type": "stream",
          "name": "stdout",
          "text": [
            "3\n"
          ]
        }
      ]
    },
    {
      "cell_type": "markdown",
      "source": [
        "## **`Arguments`**"
      ],
      "metadata": {
        "id": "_BoRMAR6ZK-H"
      }
    },
    {
      "cell_type": "code",
      "source": [
        "#Arbitary arguments\n",
        "def fun(*kids):\n",
        "  print('My young kid is '+''+kids[2])\n",
        "fun('Keerth','Sidh','Nikki','Karthi')"
      ],
      "metadata": {
        "colab": {
          "base_uri": "https://localhost:8080/"
        },
        "id": "oAdshspTZbVn",
        "outputId": "2974215d-ed12-4655-f385-3f04c6ccbea9"
      },
      "execution_count": null,
      "outputs": [
        {
          "output_type": "stream",
          "name": "stdout",
          "text": [
            "My young kid is Nikki\n"
          ]
        }
      ]
    },
    {
      "cell_type": "code",
      "source": [
        "#Keyword arguments\n",
        "def fun(child1,child2,child3):\n",
        "  print('My young child is '+''+child2)\n",
        "fun(child2='Keerth',child3='Sidh',child1=\"Karthi\")"
      ],
      "metadata": {
        "colab": {
          "base_uri": "https://localhost:8080/"
        },
        "id": "hl-aRQHSa7S-",
        "outputId": "0b9c7cc3-6dab-4b69-d3d5-7c51a2811f7b"
      },
      "execution_count": null,
      "outputs": [
        {
          "output_type": "stream",
          "name": "stdout",
          "text": [
            "My young child is Keerth\n"
          ]
        }
      ]
    },
    {
      "cell_type": "code",
      "source": [
        "#Arbitary keyword arguments\n",
        "def fun(**place):\n",
        "  print('My place is '+''+place['place1'])\n",
        "fun(place1='clt',place2='pkd',place3='ekm')"
      ],
      "metadata": {
        "colab": {
          "base_uri": "https://localhost:8080/"
        },
        "id": "pG7FJ3HcdYJH",
        "outputId": "52db60ac-adb2-4972-ff76-a9cf4734a2a7"
      },
      "execution_count": null,
      "outputs": [
        {
          "output_type": "stream",
          "name": "stdout",
          "text": [
            "My place is clt\n"
          ]
        }
      ]
    },
    {
      "cell_type": "code",
      "source": [
        "def fun(a):\n",
        "  if a<=1:\n",
        "    return 1\n",
        "  else:\n",
        "    return a*fun(a-1)\n",
        "print(fun(5))"
      ],
      "metadata": {
        "colab": {
          "base_uri": "https://localhost:8080/"
        },
        "id": "A4zwOJmMezlU",
        "outputId": "3c1d26ff-e4c2-4916-b688-80cba37cbd7e"
      },
      "execution_count": null,
      "outputs": [
        {
          "output_type": "stream",
          "name": "stdout",
          "text": [
            "120\n"
          ]
        }
      ]
    }
  ]
}