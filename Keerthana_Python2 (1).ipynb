{
  "nbformat": 4,
  "nbformat_minor": 0,
  "metadata": {
    "colab": {
      "provenance": []
    },
    "kernelspec": {
      "name": "python3",
      "display_name": "Python 3"
    },
    "language_info": {
      "name": "python"
    }
  },
  "cells": [
    {
      "cell_type": "code",
      "execution_count": null,
      "metadata": {
        "colab": {
          "base_uri": "https://localhost:8080/"
        },
        "id": "oVluo2A14sTk",
        "outputId": "97bf2513-e6ce-4983-b5bd-cdb71eb5f3d7"
      },
      "outputs": [
        {
          "output_type": "stream",
          "name": "stdout",
          "text": [
            "{'Chocolate', 'Biriyani', 'Ice cream'}\n"
          ]
        }
      ],
      "source": [
        "f1={\"Biriyani\",\"Ice cream\",\"Chocolate\"}\n",
        "print(f1)"
      ]
    },
    {
      "cell_type": "code",
      "source": [],
      "metadata": {
        "id": "pEH6HvytRNC2"
      },
      "execution_count": null,
      "outputs": []
    },
    {
      "cell_type": "code",
      "source": [
        "print(\"Biriyani\"in f1)"
      ],
      "metadata": {
        "colab": {
          "base_uri": "https://localhost:8080/"
        },
        "id": "SAkwrdKV6HVh",
        "outputId": "243ca1fb-fc22-4b1e-cb23-2da59a409fec"
      },
      "execution_count": null,
      "outputs": [
        {
          "output_type": "stream",
          "name": "stdout",
          "text": [
            "True\n"
          ]
        }
      ]
    },
    {
      "cell_type": "code",
      "source": [
        "print(\"Pasta\"in f1)"
      ],
      "metadata": {
        "colab": {
          "base_uri": "https://localhost:8080/"
        },
        "id": "YcdafjJf61HX",
        "outputId": "3adcf21b-9573-475b-e093-320457d0646b"
      },
      "execution_count": null,
      "outputs": [
        {
          "output_type": "stream",
          "name": "stdout",
          "text": [
            "False\n"
          ]
        }
      ]
    },
    {
      "cell_type": "code",
      "source": [
        "print(len(f1))"
      ],
      "metadata": {
        "colab": {
          "base_uri": "https://localhost:8080/"
        },
        "id": "ao51CB7A7Cxv",
        "outputId": "0635ee4b-5f10-461c-d54c-691cdc26fb0c"
      },
      "execution_count": null,
      "outputs": [
        {
          "output_type": "stream",
          "name": "stdout",
          "text": [
            "3\n"
          ]
        }
      ]
    },
    {
      "cell_type": "code",
      "source": [
        "f1.add(\"Pasta\",\"Safari\")\n",
        "print(f1)"
      ],
      "metadata": {
        "colab": {
          "base_uri": "https://localhost:8080/",
          "height": 193
        },
        "id": "VsveFCKT7PFX",
        "outputId": "30a2a592-bab1-4895-e1c5-060d8000f250"
      },
      "execution_count": null,
      "outputs": [
        {
          "output_type": "error",
          "ename": "TypeError",
          "evalue": "set.add() takes exactly one argument (2 given)",
          "traceback": [
            "\u001b[0;31m---------------------------------------------------------------------------\u001b[0m",
            "\u001b[0;31mTypeError\u001b[0m                                 Traceback (most recent call last)",
            "\u001b[0;32m<ipython-input-8-bcefe8bcc726>\u001b[0m in \u001b[0;36m<cell line: 1>\u001b[0;34m()\u001b[0m\n\u001b[0;32m----> 1\u001b[0;31m \u001b[0mf1\u001b[0m\u001b[0;34m.\u001b[0m\u001b[0madd\u001b[0m\u001b[0;34m(\u001b[0m\u001b[0;34m\"Pasta\"\u001b[0m\u001b[0;34m,\u001b[0m\u001b[0;34m\"Safari\"\u001b[0m\u001b[0;34m)\u001b[0m\u001b[0;34m\u001b[0m\u001b[0;34m\u001b[0m\u001b[0m\n\u001b[0m\u001b[1;32m      2\u001b[0m \u001b[0mprint\u001b[0m\u001b[0;34m(\u001b[0m\u001b[0mf1\u001b[0m\u001b[0;34m)\u001b[0m\u001b[0;34m\u001b[0m\u001b[0;34m\u001b[0m\u001b[0m\n",
            "\u001b[0;31mTypeError\u001b[0m: set.add() takes exactly one argument (2 given)"
          ]
        }
      ]
    },
    {
      "cell_type": "code",
      "source": [
        "f1.update(\"Pasta\",\"Safari\")\n",
        "print(f1)"
      ],
      "metadata": {
        "colab": {
          "base_uri": "https://localhost:8080/"
        },
        "id": "uKOqixcM78Eu",
        "outputId": "cabd58ab-5f74-4f7e-fcda-8da44637e6cc"
      },
      "execution_count": null,
      "outputs": [
        {
          "output_type": "stream",
          "name": "stdout",
          "text": [
            "{'Chocolate', 'S', 'a', 'Ice cream', 's', 'P', 'Pasta', 't', 'r', 'f', 'i', 'Biriyani'}\n"
          ]
        }
      ]
    },
    {
      "cell_type": "code",
      "source": [
        "a1={12,15}\n",
        "a2={12,30}\n",
        "a3=a2.union(a1)\n",
        "print(a3)"
      ],
      "metadata": {
        "colab": {
          "base_uri": "https://localhost:8080/"
        },
        "id": "5xWJoGDp885H",
        "outputId": "9b63cb8a-592f-4fc5-bbbe-da29d25b93a9"
      },
      "execution_count": null,
      "outputs": [
        {
          "output_type": "stream",
          "name": "stdout",
          "text": [
            "{12, 30, 15}\n"
          ]
        }
      ]
    },
    {
      "cell_type": "code",
      "source": [
        "a1={12,15}\n",
        "a2={12,30}\n",
        "a3=a1.difference(a2)\n",
        "print(a3)"
      ],
      "metadata": {
        "colab": {
          "base_uri": "https://localhost:8080/"
        },
        "id": "fnbYPO2f9uwW",
        "outputId": "87fc857e-d9e9-4c8a-af3c-a54294029b90"
      },
      "execution_count": null,
      "outputs": [
        {
          "output_type": "stream",
          "name": "stdout",
          "text": [
            "{15}\n"
          ]
        }
      ]
    },
    {
      "cell_type": "code",
      "source": [
        "a3=a1.intersection(a2)\n",
        "print(a3)"
      ],
      "metadata": {
        "colab": {
          "base_uri": "https://localhost:8080/"
        },
        "id": "Bpfx8DCN-nvW",
        "outputId": "dcf93071-3dda-4b29-ef1c-9353ee4a114b"
      },
      "execution_count": null,
      "outputs": [
        {
          "output_type": "stream",
          "name": "stdout",
          "text": [
            "{12}\n"
          ]
        }
      ]
    },
    {
      "cell_type": "code",
      "source": [
        "s1={1,2,3,4}\n",
        "s2={4,5,6,7}\n",
        "s3=s1.union(s2)\n",
        "print(s3)"
      ],
      "metadata": {
        "colab": {
          "base_uri": "https://localhost:8080/"
        },
        "id": "gNhuqjXO_Sz0",
        "outputId": "f20743b8-1ecf-422c-fd8b-a4878e040b68"
      },
      "execution_count": null,
      "outputs": [
        {
          "output_type": "stream",
          "name": "stdout",
          "text": [
            "{1, 2, 3, 4, 5, 6, 7}\n"
          ]
        }
      ]
    },
    {
      "cell_type": "code",
      "source": [
        "s3=s1.difference(s2)\n",
        "print(s3)"
      ],
      "metadata": {
        "colab": {
          "base_uri": "https://localhost:8080/"
        },
        "id": "8irjemYKAel2",
        "outputId": "f2a3f001-a8ce-4a47-c3b2-7a5bdde05982"
      },
      "execution_count": null,
      "outputs": [
        {
          "output_type": "stream",
          "name": "stdout",
          "text": [
            "{1, 2, 3}\n"
          ]
        }
      ]
    },
    {
      "cell_type": "code",
      "source": [
        "s3=s1.intersection(s2)\n",
        "print(s3)"
      ],
      "metadata": {
        "colab": {
          "base_uri": "https://localhost:8080/"
        },
        "id": "-1i7XH-_Aob1",
        "outputId": "89648308-7658-4a5b-cf21-e1cd607df306"
      },
      "execution_count": null,
      "outputs": [
        {
          "output_type": "stream",
          "name": "stdout",
          "text": [
            "{4}\n"
          ]
        }
      ]
    },
    {
      "cell_type": "code",
      "source": [
        "msg=\"Learn Python\"\n",
        "print(msg)"
      ],
      "metadata": {
        "colab": {
          "base_uri": "https://localhost:8080/"
        },
        "id": "HQq1l-d1A2Tb",
        "outputId": "3d29b4ce-8ebb-4c17-cfe3-6d52b46eb6f3"
      },
      "execution_count": null,
      "outputs": [
        {
          "output_type": "stream",
          "name": "stdout",
          "text": [
            "Learn Python\n"
          ]
        }
      ]
    },
    {
      "cell_type": "code",
      "source": [
        "print(msg[5])"
      ],
      "metadata": {
        "colab": {
          "base_uri": "https://localhost:8080/"
        },
        "id": "F2E6f51WBYIF",
        "outputId": "c371d7e6-ecfa-445a-e744-01f77479fccc"
      },
      "execution_count": null,
      "outputs": [
        {
          "output_type": "stream",
          "name": "stdout",
          "text": [
            " \n"
          ]
        }
      ]
    },
    {
      "cell_type": "code",
      "source": [
        "print(msg[1:4])"
      ],
      "metadata": {
        "colab": {
          "base_uri": "https://localhost:8080/"
        },
        "id": "hww10fksCJhW",
        "outputId": "b0d9f4af-268a-46c2-9c35-19bcb03a304a"
      },
      "execution_count": null,
      "outputs": [
        {
          "output_type": "stream",
          "name": "stdout",
          "text": [
            "ear\n"
          ]
        }
      ]
    },
    {
      "cell_type": "code",
      "source": [
        "print(len(msg))"
      ],
      "metadata": {
        "colab": {
          "base_uri": "https://localhost:8080/"
        },
        "id": "HcE6tPHOCwhN",
        "outputId": "56cff347-7fb8-4b7a-f7f9-fbdff7ccd694"
      },
      "execution_count": null,
      "outputs": [
        {
          "output_type": "stream",
          "name": "stdout",
          "text": [
            "12\n"
          ]
        }
      ]
    },
    {
      "cell_type": "code",
      "source": [
        "msg1=\"  Learn\"\n",
        "print(msg1)"
      ],
      "metadata": {
        "colab": {
          "base_uri": "https://localhost:8080/"
        },
        "id": "PTtYaf7YDVjd",
        "outputId": "d3a5d4aa-a16d-463c-e1cd-72e6ec3667a2"
      },
      "execution_count": null,
      "outputs": [
        {
          "output_type": "stream",
          "name": "stdout",
          "text": [
            "  Learn\n"
          ]
        }
      ]
    },
    {
      "cell_type": "code",
      "source": [
        "print(msg1.strip())"
      ],
      "metadata": {
        "colab": {
          "base_uri": "https://localhost:8080/"
        },
        "id": "5oZxHaxnDljz",
        "outputId": "9af6852b-3e0e-430b-f2fb-3ef171634bed"
      },
      "execution_count": null,
      "outputs": [
        {
          "output_type": "stream",
          "name": "stdout",
          "text": [
            "Learn\n"
          ]
        }
      ]
    },
    {
      "cell_type": "code",
      "source": [
        "print(msg.upper())"
      ],
      "metadata": {
        "colab": {
          "base_uri": "https://localhost:8080/"
        },
        "id": "DvzKHh31EFTD",
        "outputId": "57b0e5a0-898c-4461-c241-527bd0cd1c4e"
      },
      "execution_count": null,
      "outputs": [
        {
          "output_type": "stream",
          "name": "stdout",
          "text": [
            "LEARN PYTHON\n"
          ]
        }
      ]
    },
    {
      "cell_type": "code",
      "source": [
        "print(msg.lower())"
      ],
      "metadata": {
        "colab": {
          "base_uri": "https://localhost:8080/"
        },
        "id": "UZ59BJfWEYFz",
        "outputId": "88fe7849-3c5c-4939-93fd-4f9c51681649"
      },
      "execution_count": null,
      "outputs": [
        {
          "output_type": "stream",
          "name": "stdout",
          "text": [
            "learn python\n"
          ]
        }
      ]
    },
    {
      "cell_type": "code",
      "source": [
        "print(msg.replace(\"L\",\"R\"))"
      ],
      "metadata": {
        "colab": {
          "base_uri": "https://localhost:8080/"
        },
        "id": "ZNIAjszlE6Db",
        "outputId": "6c0698b8-48cf-4d54-f825-9da69a007e43"
      },
      "execution_count": null,
      "outputs": [
        {
          "output_type": "stream",
          "name": "stdout",
          "text": [
            "Rearn Python\n"
          ]
        }
      ]
    },
    {
      "cell_type": "code",
      "source": [
        "A1=\"Sidharth\"\n",
        "A2=\" Arun\"\n",
        "A3=A1+A2\n",
        "print(A3)"
      ],
      "metadata": {
        "colab": {
          "base_uri": "https://localhost:8080/"
        },
        "id": "leH3_SstFeWc",
        "outputId": "f7dd21a5-9edc-40f1-f414-f4f23a15712d"
      },
      "execution_count": null,
      "outputs": [
        {
          "output_type": "stream",
          "name": "stdout",
          "text": [
            "Sidharth Arun\n"
          ]
        }
      ]
    },
    {
      "cell_type": "code",
      "source": [
        "A=A3.endswith(\" Arun\")\n",
        "print(A)"
      ],
      "metadata": {
        "colab": {
          "base_uri": "https://localhost:8080/"
        },
        "id": "Pu_wruy2GFA7",
        "outputId": "df21dacd-8619-45eb-f7dc-fbb5a05cd299"
      },
      "execution_count": null,
      "outputs": [
        {
          "output_type": "stream",
          "name": "stdout",
          "text": [
            "True\n"
          ]
        }
      ]
    },
    {
      "cell_type": "code",
      "source": [
        "A=A3.startswith(\"S\")\n",
        "print(A)"
      ],
      "metadata": {
        "colab": {
          "base_uri": "https://localhost:8080/"
        },
        "id": "0z2k_se5GuVM",
        "outputId": "910c9508-acec-49d4-8c2d-6fff64e81173"
      },
      "execution_count": null,
      "outputs": [
        {
          "output_type": "stream",
          "name": "stdout",
          "text": [
            "True\n"
          ]
        }
      ]
    },
    {
      "cell_type": "code",
      "source": [
        "A=A3.swapcase()\n",
        "print(A)"
      ],
      "metadata": {
        "colab": {
          "base_uri": "https://localhost:8080/"
        },
        "id": "BYKMifkAHW4L",
        "outputId": "ab245f15-9ab8-4112-ed1b-4fb9ef1dea60"
      },
      "execution_count": null,
      "outputs": [
        {
          "output_type": "stream",
          "name": "stdout",
          "text": [
            "sIDHARTH aRUN\n"
          ]
        }
      ]
    },
    {
      "cell_type": "code",
      "source": [
        "d1={\"name\":\"Me\",\n",
        "    \"email\":\"mehere123@gmail.com\",\"phone\":\"9462\"}\n",
        "print(d1)"
      ],
      "metadata": {
        "colab": {
          "base_uri": "https://localhost:8080/"
        },
        "id": "vszz5ozcI4AE",
        "outputId": "c043dcc1-5625-419b-826c-be346cdce3b7"
      },
      "execution_count": null,
      "outputs": [
        {
          "output_type": "stream",
          "name": "stdout",
          "text": [
            "{'name': 'Me', 'email': 'mehere123@gmail.com', 'phone': '9462'}\n"
          ]
        }
      ]
    },
    {
      "cell_type": "code",
      "source": [
        "a=d1[\"name\"]\n",
        "print(a)"
      ],
      "metadata": {
        "colab": {
          "base_uri": "https://localhost:8080/"
        },
        "id": "bBn7t29AKR9i",
        "outputId": "3baf143a-ca41-4a92-c22e-455f063a22ff"
      },
      "execution_count": null,
      "outputs": [
        {
          "output_type": "stream",
          "name": "stdout",
          "text": [
            "Me\n"
          ]
        }
      ]
    },
    {
      "cell_type": "code",
      "source": [
        "a=d1[\"email\"]\n",
        "print(a)"
      ],
      "metadata": {
        "colab": {
          "base_uri": "https://localhost:8080/"
        },
        "id": "Sk0m96EoKj0q",
        "outputId": "88c3e0f1-35b4-4e63-8262-07e2a3dad8ea"
      },
      "execution_count": null,
      "outputs": [
        {
          "output_type": "stream",
          "name": "stdout",
          "text": [
            "mehere123@gmail.com\n"
          ]
        }
      ]
    },
    {
      "cell_type": "code",
      "source": [
        "a=d1[\"phone\"]\n",
        "print(a)"
      ],
      "metadata": {
        "colab": {
          "base_uri": "https://localhost:8080/"
        },
        "id": "dYTkHG7JKrIy",
        "outputId": "cb34d616-b931-4653-c9a4-1f5b7b2222b7"
      },
      "execution_count": null,
      "outputs": [
        {
          "output_type": "stream",
          "name": "stdout",
          "text": [
            "9462\n"
          ]
        }
      ]
    },
    {
      "cell_type": "code",
      "source": [
        "a=d1[\"name\"]=\"You\"\n",
        "print(d1)"
      ],
      "metadata": {
        "colab": {
          "base_uri": "https://localhost:8080/"
        },
        "id": "yy9kcsFKLPJi",
        "outputId": "828257f3-067b-4785-e40a-3f13aa64796b"
      },
      "execution_count": null,
      "outputs": [
        {
          "output_type": "stream",
          "name": "stdout",
          "text": [
            "{'name': 'You', 'email': 'mehere123@gmail.com', 'phone': '9462'}\n"
          ]
        }
      ]
    },
    {
      "cell_type": "code",
      "source": [
        "d1.keys()\n"
      ],
      "metadata": {
        "colab": {
          "base_uri": "https://localhost:8080/"
        },
        "id": "4dQkvxv2L_lp",
        "outputId": "78eda427-080e-43ce-e566-2fc64c01a205"
      },
      "execution_count": null,
      "outputs": [
        {
          "output_type": "execute_result",
          "data": {
            "text/plain": [
              "dict_keys(['name', 'email', 'phone'])"
            ]
          },
          "metadata": {},
          "execution_count": 24
        }
      ]
    },
    {
      "cell_type": "code",
      "source": [
        "d1.values()"
      ],
      "metadata": {
        "colab": {
          "base_uri": "https://localhost:8080/"
        },
        "id": "TDrkQrrsMQhZ",
        "outputId": "573b249e-4fb4-47e4-f311-71ef00d7de6d"
      },
      "execution_count": null,
      "outputs": [
        {
          "output_type": "execute_result",
          "data": {
            "text/plain": [
              "dict_values(['You', 'mehere123@gmail.com', '9462'])"
            ]
          },
          "metadata": {},
          "execution_count": 25
        }
      ]
    },
    {
      "cell_type": "code",
      "source": [
        "d1.items()"
      ],
      "metadata": {
        "colab": {
          "base_uri": "https://localhost:8080/"
        },
        "id": "wBCrO0LhMyb6",
        "outputId": "d56d733f-b05a-4c78-99e1-9e7f720fa044"
      },
      "execution_count": null,
      "outputs": [
        {
          "output_type": "execute_result",
          "data": {
            "text/plain": [
              "dict_items([('name', 'You'), ('email', 'mehere123@gmail.com'), ('phone', '9462')])"
            ]
          },
          "metadata": {},
          "execution_count": 26
        }
      ]
    },
    {
      "cell_type": "code",
      "source": [
        "d1[\"age\"]=18\n",
        "print(d1)"
      ],
      "metadata": {
        "colab": {
          "base_uri": "https://localhost:8080/"
        },
        "id": "W_Ldy-NcNLDp",
        "outputId": "dd887e69-21b2-4aaf-c65a-57983f7cd06a"
      },
      "execution_count": null,
      "outputs": [
        {
          "output_type": "stream",
          "name": "stdout",
          "text": [
            "{'name': 'You', 'email': 'mehere123@gmail.com', 'phone': '9462', 'age': 18}\n"
          ]
        }
      ]
    },
    {
      "cell_type": "code",
      "source": [
        "d1.pop(\"name\")\n",
        "print(d1)"
      ],
      "metadata": {
        "colab": {
          "base_uri": "https://localhost:8080/"
        },
        "id": "uxaVCvLAN5jo",
        "outputId": "c80456ce-3460-4b50-9bc7-d6dccd3ab557"
      },
      "execution_count": null,
      "outputs": [
        {
          "output_type": "stream",
          "name": "stdout",
          "text": [
            "{'email': 'mehere123@gmail.com', 'phone': '9462', 'age': 18}\n"
          ]
        }
      ]
    },
    {
      "cell_type": "code",
      "source": [
        "a=22\n",
        "b=30\n",
        "if b>a:\n",
        "      print(\"b is greater than a\")"
      ],
      "metadata": {
        "colab": {
          "base_uri": "https://localhost:8080/"
        },
        "id": "icwb-5M9OlBj",
        "outputId": "0ff9fbb9-386b-4e77-d518-7c6b0167ba0c"
      },
      "execution_count": null,
      "outputs": [
        {
          "output_type": "stream",
          "name": "stdout",
          "text": [
            "b is greater than a\n"
          ]
        }
      ]
    }
  ]
}