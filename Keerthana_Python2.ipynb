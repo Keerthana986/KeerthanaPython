{
  "nbformat": 4,
  "nbformat_minor": 0,
  "metadata": {
    "colab": {
      "provenance": []
    },
    "kernelspec": {
      "name": "python3",
      "display_name": "Python 3"
    },
    "language_info": {
      "name": "python"
    }
  },
  "cells": [
    {
      "cell_type": "code",
      "execution_count": null,
      "metadata": {
        "colab": {
          "base_uri": "https://localhost:8080/"
        },
        "id": "hX-Hch3dAP9p",
        "outputId": "ea53d2bf-06c2-4816-82da-531002a90412"
      },
      "outputs": [
        {
          "output_type": "stream",
          "name": "stdout",
          "text": [
            "Hallo\n"
          ]
        }
      ],
      "source": [
        "H = \"Hello\"\n",
        "print(H.replace(\"e\",\"a\"))"
      ]
    },
    {
      "cell_type": "code",
      "source": [
        "x=11\n",
        "print(x>3 and x<3)"
      ],
      "metadata": {
        "colab": {
          "base_uri": "https://localhost:8080/"
        },
        "id": "arBhdV1IDmz8",
        "outputId": "c8ccd53e-27d6-4061-eb1d-d49dc2b2d67e"
      },
      "execution_count": null,
      "outputs": [
        {
          "output_type": "stream",
          "name": "stdout",
          "text": [
            "False\n"
          ]
        }
      ]
    },
    {
      "cell_type": "code",
      "source": [
        "print(x>3 or x<3)"
      ],
      "metadata": {
        "colab": {
          "base_uri": "https://localhost:8080/"
        },
        "id": "6nWkbmeSFqfc",
        "outputId": "1a3c9f23-5f91-42ff-8759-d634c53b10b0"
      },
      "execution_count": null,
      "outputs": [
        {
          "output_type": "stream",
          "name": "stdout",
          "text": [
            "True\n"
          ]
        }
      ]
    },
    {
      "cell_type": "code",
      "source": [
        "A = [\"Biriyani\",\"Ice cream\"]\n",
        "print(\"Biriyani\" in A)"
      ],
      "metadata": {
        "colab": {
          "base_uri": "https://localhost:8080/"
        },
        "id": "5THJdPXUGDzE",
        "outputId": "fa0eea3d-3f40-4512-e392-4864f9a011cd"
      },
      "execution_count": null,
      "outputs": [
        {
          "output_type": "stream",
          "name": "stdout",
          "text": [
            "True\n"
          ]
        }
      ]
    },
    {
      "cell_type": "code",
      "source": [
        "print(6 & 2)"
      ],
      "metadata": {
        "colab": {
          "base_uri": "https://localhost:8080/"
        },
        "id": "MSmihlorGltM",
        "outputId": "b6b62162-fd0b-46ac-a6d8-ca16cf85edc3"
      },
      "execution_count": null,
      "outputs": [
        {
          "output_type": "stream",
          "name": "stdout",
          "text": [
            "2\n"
          ]
        }
      ]
    },
    {
      "cell_type": "code",
      "source": [
        "print(6|3)"
      ],
      "metadata": {
        "colab": {
          "base_uri": "https://localhost:8080/"
        },
        "id": "80YUA9vQHJjs",
        "outputId": "ca3f51e0-e3bc-493b-a979-8bc35fdaf162"
      },
      "execution_count": null,
      "outputs": [
        {
          "output_type": "stream",
          "name": "stdout",
          "text": [
            "7\n"
          ]
        }
      ]
    },
    {
      "cell_type": "code",
      "source": [
        "A=22\n",
        "B=30\n",
        "if(B>A):\n",
        "  print(\"B is greater than A\")"
      ],
      "metadata": {
        "colab": {
          "base_uri": "https://localhost:8080/"
        },
        "id": "pR8rvTkoIKGc",
        "outputId": "0f045ad0-ab7f-464e-e8b9-5df3262271a3"
      },
      "execution_count": null,
      "outputs": [
        {
          "output_type": "stream",
          "name": "stdout",
          "text": [
            "B is greater than A\n"
          ]
        }
      ]
    },
    {
      "cell_type": "code",
      "source": [
        "if A%2==0:\n",
        "  print(\"A is a multiple of 2.\")"
      ],
      "metadata": {
        "colab": {
          "base_uri": "https://localhost:8080/"
        },
        "id": "DF5dIj1oI0mb",
        "outputId": "f2f87633-1b9f-43ad-cea7-74cdf28749c0"
      },
      "execution_count": null,
      "outputs": [
        {
          "output_type": "stream",
          "name": "stdout",
          "text": [
            "A is a multiple of 2.\n"
          ]
        }
      ]
    },
    {
      "cell_type": "code",
      "source": [
        "if A%2==0:\n",
        "  print(\"A is a multiple of 2\")\n",
        "else:\n",
        "  print(\"A is not a multiple of 2\")"
      ],
      "metadata": {
        "colab": {
          "base_uri": "https://localhost:8080/"
        },
        "id": "Mh5cPPAxJYwM",
        "outputId": "e478d70f-6b89-478c-d096-2267338f0c5d"
      },
      "execution_count": null,
      "outputs": [
        {
          "output_type": "stream",
          "name": "stdout",
          "text": [
            "A is a multiple of 2\n"
          ]
        }
      ]
    },
    {
      "cell_type": "code",
      "source": [
        "Year=int(input(\"Enter Year : \"))"
      ],
      "metadata": {
        "colab": {
          "base_uri": "https://localhost:8080/"
        },
        "id": "5beb_RSdL4X1",
        "outputId": "c8801a9e-8e82-42a1-f627-df3ab4c867d6"
      },
      "execution_count": null,
      "outputs": [
        {
          "name": "stdout",
          "output_type": "stream",
          "text": [
            "Enter Year : 2006\n"
          ]
        }
      ]
    },
    {
      "cell_type": "code",
      "source": [
        "Year=int(input(\"Enter Year : \"))\n",
        "if(Year%4==0 and Year%100!=0)or (Year%400==0):\n",
        "  print(\"Leap Year\")\n",
        "else:\n",
        "  print(\"This Year is not a leap year\")"
      ],
      "metadata": {
        "colab": {
          "base_uri": "https://localhost:8080/"
        },
        "id": "Af1tTLjrMX8N",
        "outputId": "182a9d3a-68c5-49b8-e939-81e7f3fb4d8b"
      },
      "execution_count": null,
      "outputs": [
        {
          "output_type": "stream",
          "name": "stdout",
          "text": [
            "Enter Year : 2004\n",
            "Leap Year\n"
          ]
        }
      ]
    },
    {
      "cell_type": "code",
      "source": [
        "Age=int(input(\"Enter the Age : \"))\n",
        "if (Age>19):\n",
        "  print(\"Eligible to vote\")\n",
        "elif(Age>=18):\n",
        "  print(\"Eligible to vote\")\n",
        "else:\n",
        "  print(\"Not eligible to vote\")"
      ],
      "metadata": {
        "colab": {
          "base_uri": "https://localhost:8080/"
        },
        "id": "04wURouLOyJV",
        "outputId": "4098d345-3a47-43b3-a2c8-f479e197fd5a"
      },
      "execution_count": null,
      "outputs": [
        {
          "output_type": "stream",
          "name": "stdout",
          "text": [
            "Enter the Age : 17\n",
            "Not eligible to vote\n"
          ]
        }
      ]
    },
    {
      "cell_type": "code",
      "source": [
        "Marks=int(input(\"Enter the marks : \"))\n",
        "if(Marks>90):\n",
        "  print(\"Grade A\")\n",
        "elif(Marks>70):\n",
        "  print(\"Grade B\")\n",
        "elif(Marks>40):\n",
        "  print(\"Grade C\")\n",
        "else:\n",
        "  print(\"Grade P\")"
      ],
      "metadata": {
        "colab": {
          "base_uri": "https://localhost:8080/"
        },
        "id": "Vp_g4H7SRCqW",
        "outputId": "3c89e1e5-0903-4a37-b4b7-ed7a7d8c1ea1"
      },
      "execution_count": null,
      "outputs": [
        {
          "output_type": "stream",
          "name": "stdout",
          "text": [
            "Enter the marks : 17\n",
            "Grade P\n"
          ]
        }
      ]
    },
    {
      "cell_type": "code",
      "source": [
        "limit=int(input(\"Enter limit : \"))\n",
        "count=1\n",
        "while count<=limit:\n",
        "  print(count)\n",
        "  count+=1"
      ],
      "metadata": {
        "colab": {
          "base_uri": "https://localhost:8080/"
        },
        "id": "AJyz5Oj9TMX2",
        "outputId": "c2efd7c4-3c53-4e0e-b0c6-e76900e3683b"
      },
      "execution_count": null,
      "outputs": [
        {
          "output_type": "stream",
          "name": "stdout",
          "text": [
            "Enter limit : 6\n",
            "1\n",
            "2\n",
            "3\n",
            "4\n",
            "5\n",
            "6\n"
          ]
        }
      ]
    },
    {
      "cell_type": "code",
      "source": [
        "print(chr(11088))"
      ],
      "metadata": {
        "colab": {
          "base_uri": "https://localhost:8080/"
        },
        "id": "He2YuryZUsjN",
        "outputId": "3d5bfb67-91eb-45be-f99e-253653d50e20"
      },
      "execution_count": null,
      "outputs": [
        {
          "output_type": "stream",
          "name": "stdout",
          "text": [
            "⭐\n"
          ]
        }
      ]
    },
    {
      "cell_type": "code",
      "source": [
        "print(chr(9800))"
      ],
      "metadata": {
        "colab": {
          "base_uri": "https://localhost:8080/"
        },
        "id": "tEFtoTJRVU3s",
        "outputId": "30f77a2b-9d63-4579-e721-9194b8707d04"
      },
      "execution_count": null,
      "outputs": [
        {
          "output_type": "stream",
          "name": "stdout",
          "text": [
            "♈\n"
          ]
        }
      ]
    },
    {
      "cell_type": "code",
      "source": [
        "print(chr(9200))"
      ],
      "metadata": {
        "colab": {
          "base_uri": "https://localhost:8080/"
        },
        "id": "-v6wlVqtXD1f",
        "outputId": "b5e433de-5fc8-4b58-9972-407c168fb4c9"
      },
      "execution_count": null,
      "outputs": [
        {
          "output_type": "stream",
          "name": "stdout",
          "text": [
            "⏰\n"
          ]
        }
      ]
    },
    {
      "cell_type": "code",
      "source": [
        "print(chr(9800))"
      ],
      "metadata": {
        "colab": {
          "base_uri": "https://localhost:8080/"
        },
        "id": "u3FmlenAXJfd",
        "outputId": "8e796e15-ad40-49bf-acda-ce3c5c863b06"
      },
      "execution_count": null,
      "outputs": [
        {
          "output_type": "stream",
          "name": "stdout",
          "text": [
            "♈\n"
          ]
        }
      ]
    },
    {
      "cell_type": "code",
      "source": [
        "n=int(input(\"Enter the number : \"))\n",
        "i=0\n",
        "while(n!=0):\n",
        "  n=n//10\n",
        "  i+=1\n",
        "print(i)"
      ],
      "metadata": {
        "colab": {
          "base_uri": "https://localhost:8080/"
        },
        "id": "dHE7x36kXtDv",
        "outputId": "65d939a7-ffe0-4f5f-e65c-1229192a654c"
      },
      "execution_count": null,
      "outputs": [
        {
          "output_type": "stream",
          "name": "stdout",
          "text": [
            "Enter the number : 308\n",
            "3\n"
          ]
        }
      ]
    },
    {
      "cell_type": "code",
      "source": [
        "print(chr(10084))"
      ],
      "metadata": {
        "colab": {
          "base_uri": "https://localhost:8080/"
        },
        "id": "MQOofq3xY4O6",
        "outputId": "dc822ab5-aff2-4026-fe5a-92d8384f744f"
      },
      "execution_count": null,
      "outputs": [
        {
          "output_type": "stream",
          "name": "stdout",
          "text": [
            "❤\n"
          ]
        }
      ]
    }
  ]
}